{
 "cells": [
  {
   "cell_type": "markdown",
   "metadata": {},
   "source": [
    "# |PIX Forecasting - Data Preprocessing| Preprocessing raw tables and joining variables together.\n",
    "\n",
    "**Objective**: Prepare the raw tables for further analysis and ML modeling by performing resampling, cleaning and joining variables in a single table.\n",
    "\n",
    "1. Clean column's names;\n",
    "2. Perform resampling on monthly external data to match the frequency of the PIX variables;\n",
    "3. Join the tables on the date column;\n",
    "4. Handle missing values;\n",
    "5. Save the preprocessed data to a table."
   ]
  },
  {
   "cell_type": "markdown",
   "metadata": {},
   "source": [
    "## 1.0 Imports"
   ]
  },
  {
   "cell_type": "markdown",
   "metadata": {},
   "source": [
    "### 1.1 Setting working directory"
   ]
  },
  {
   "cell_type": "code",
   "execution_count": 1,
   "metadata": {},
   "outputs": [],
   "source": [
    "import sys\n",
    "import os\n",
    "\n",
    "if not os.getcwd().split(\"\\\\\")[-1] == \"ip_forecasting\":\n",
    "    # Get the directory of the current notebook\n",
    "    notebook_dir = os.path.dirname(\n",
    "        os.path.abspath(\"__file__\")\n",
    "    )  # Use __file__ for portability\n",
    "\n",
    "    # Move up one level to the project root\n",
    "    project_root = os.path.abspath(os.path.join(notebook_dir, \"..\"))\n",
    "\n",
    "    # Change working directory\n",
    "    os.chdir(project_root)"
   ]
  },
  {
   "cell_type": "code",
   "execution_count": 2,
   "metadata": {},
   "outputs": [
    {
     "name": "stdout",
     "output_type": "stream",
     "text": [
      "2025-01-23 16:43:55,854 - src.configuration.config_feature - WARNING - Model Flavor selected: mix\n"
     ]
    }
   ],
   "source": [
    "import pandas as pd\n",
    "import numpy as np\n",
    "import pandas_gbq\n",
    "\n",
    "from src.data.preprocessing import Preprocessing\n",
    "from src.features.joining_tables import TableJoining\n",
    "%load_ext autoreload\n",
    "%autoreload 2"
   ]
  },
  {
   "cell_type": "markdown",
   "metadata": {},
   "source": [
    "### 1.2 Parameters setting"
   ]
  },
  {
   "cell_type": "code",
   "execution_count": 3,
   "metadata": {},
   "outputs": [],
   "source": [
    "dataset = \"artefact\"\n",
    "save_to_table = True"
   ]
  },
  {
   "cell_type": "markdown",
   "metadata": {},
   "source": [
    "## 2.0 Run raw tables Preprocessing"
   ]
  },
  {
   "cell_type": "code",
   "execution_count": 4,
   "metadata": {},
   "outputs": [],
   "source": [
    "preprocessor = Preprocessing()"
   ]
  },
  {
   "cell_type": "code",
   "execution_count": 5,
   "metadata": {},
   "outputs": [],
   "source": [
    "# clean_backlog = preprocessor.preprocess_backlog(\n",
    "#     filename=\"Histórico fechamento backlog 2020 - 2024 1.xlsx\",\n",
    "#     granularity=\"weekly\",\n",
    "#     save_to_table=save_to_table,\n",
    "# )\n",
    "\n",
    "# clean_order_intake_client = preprocessor.preprocess_order_intake_client(\n",
    "#     \"Histórico order intake 2021-2024 (Artefact) - V4.xlsx\", save_to_table=save_to_table\n",
    "# )\n",
    "\n",
    "# clean_order_intake_model_weekly = preprocessor.preprocess_order_intake_ip_model_weekly(\n",
    "#     dataset=\"artefact\",\n",
    "#     tablename=\"interim_order_intake_agg_weekly\",\n",
    "#     save_to_table=save_to_table,\n",
    "# )\n",
    "# clean_moody = preprocessor.preprocess_moody(\n",
    "#     dataset=\"news\", tablename=\"moody_index\", save_to_table=save_to_table\n",
    "# )\n",
    "# clean_pix_china = preprocessor.preprocess_pix_china(\n",
    "#     dataset=\"vision\",\n",
    "#     tablename=\"foex_pulp_china\",\n",
    "#     granularity=\"w\",\n",
    "#     save_to_table=save_to_table,\n",
    "# )\n",
    "# clean_pix_europe = preprocessor.preprocess_pix_europe(\n",
    "#     dataset=\"vision\", tablename=\"foex_pulp_europe\", save_to_table=save_to_table\n",
    "# )\n",
    "# clean_stock = preprocessor.preprocess_stock(\n",
    "#     filename=\"stocks_data.xlsx\", granularity=\"w\", save_to_table=save_to_table\n",
    "# )\n",
    "# clean_resale = preprocessor.preprocess_resale(\n",
    "#     filename=\"resale_data.xlsx\", granularity=\"w\", save_to_table=save_to_table\n",
    "# )\n",
    "# clean_hardwood_import = preprocessor.preprocess_hardwood_import(\n",
    "#     filename=\"china_hardwood_imports_data.xlsx\", save_to_table=save_to_table\n",
    "# )\n",
    "# clean_woodchips = preprocessor.preprocess_woodchips(\n",
    "#     dataset=\"vision\", tablename=\"gacc\", granularity=\"m\", save_to_table=save_to_table\n",
    "# )\n",
    "# clean_tissue_price = preprocessor.preprocess_tissue_price(\n",
    "#     filename=\"DB - Jumbo Roll Price Tracking20241111.xlsb\", save_to_table=save_to_table\n",
    "# )"
   ]
  },
  {
   "cell_type": "markdown",
   "metadata": {},
   "source": [
    "## 3.0 Run Tables Joining"
   ]
  },
  {
   "cell_type": "code",
   "execution_count": 6,
   "metadata": {},
   "outputs": [],
   "source": [
    "joiner = TableJoining()\n",
    "\n",
    "# all_features_df = joiner.join_all_tables(dataset=dataset, save_to_table=save_to_table)"
   ]
  },
  {
   "cell_type": "markdown",
   "metadata": {},
   "source": [
    "## Renomeando As variáveis"
   ]
  },
  {
   "cell_type": "code",
   "execution_count": 7,
   "metadata": {},
   "outputs": [],
   "source": [
    "# from src.data.data_loader import load_and_preprocess_model_dataset"
   ]
  },
  {
   "cell_type": "code",
   "execution_count": 8,
   "metadata": {},
   "outputs": [],
   "source": [
    "# feature_df = load_and_preprocess_model_dataset(\"featurized_df\")"
   ]
  },
  {
   "cell_type": "code",
   "execution_count": 9,
   "metadata": {},
   "outputs": [],
   "source": [
    "# feature_df = feature_df.drop(columns=['oi_invoice_volume', 'moody_interpolated', 'backlog_tons'])"
   ]
  },
  {
   "cell_type": "code",
   "execution_count": 10,
   "metadata": {},
   "outputs": [],
   "source": [
    "# columns_names_mapping = {\n",
    "#     'china_port_inventories': 'inventories',\n",
    "#     'woodchips_imports': 'imports',\n",
    "#     'resale_bhkp_usd': 'second_market_price',\n",
    "#     'sci_market_price_rmbt': 'final_product_price',\n",
    "#     'pix_china_bhkp_net_usdt': 'index_price'\n",
    "# }"
   ]
  },
  {
   "cell_type": "code",
   "execution_count": 11,
   "metadata": {},
   "outputs": [],
   "source": [
    "# feature_df = feature_df.rename(columns=columns_names_mapping)"
   ]
  },
  {
   "cell_type": "code",
   "execution_count": 12,
   "metadata": {},
   "outputs": [],
   "source": [
    "# feature_df.to_csv(\"./data/processed/featurized_df.csv\", index=False)"
   ]
  },
  {
   "cell_type": "code",
   "execution_count": null,
   "metadata": {},
   "outputs": [],
   "source": []
  }
 ],
 "metadata": {
  "kernelspec": {
   "display_name": "forecasting",
   "language": "python",
   "name": "python3"
  },
  "language_info": {
   "codemirror_mode": {
    "name": "ipython",
    "version": 3
   },
   "file_extension": ".py",
   "mimetype": "text/x-python",
   "name": "python",
   "nbconvert_exporter": "python",
   "pygments_lexer": "ipython3",
   "version": "3.11.11"
  }
 },
 "nbformat": 4,
 "nbformat_minor": 2
}
