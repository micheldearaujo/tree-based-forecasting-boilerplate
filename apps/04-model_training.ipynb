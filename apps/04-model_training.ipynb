{
 "cells": [
  {
   "cell_type": "markdown",
   "metadata": {},
   "source": [
    "# |PIX Forecasting - Modeling| IP45D V2.0 - Training the V2 Artefact model for out of sample inference.\n",
    "\n",
    "**Objective**: Train the pool of boosting models using the whole available data in order to perform out-of-sample inference.\n",
    "\n",
    "- Train V2 model using both market and Suzano features.\n",
    "- Save the models into the MLflow experiment and register the model."
   ]
  },
  {
   "cell_type": "markdown",
   "metadata": {},
   "source": [
    "## 1.0 Imports"
   ]
  },
  {
   "cell_type": "markdown",
   "metadata": {},
   "source": [
    "### 1.1 Setting working directory"
   ]
  },
  {
   "cell_type": "code",
   "execution_count": 1,
   "metadata": {},
   "outputs": [],
   "source": [
    "import sys\n",
    "import os\n",
    "\n",
    "if not os.getcwd().split(\"\\\\\")[-1] == \"ip_forecasting\":\n",
    "    # Get the directory of the current notebook\n",
    "    notebook_dir = os.path.dirname(\n",
    "        os.path.abspath(\"__file__\")\n",
    "    )  # Use __file__ for portability\n",
    "\n",
    "    # Move up one level to the project root\n",
    "    project_root = os.path.abspath(os.path.join(notebook_dir, \"..\"))\n",
    "\n",
    "    # Change working directory\n",
    "    os.chdir(project_root)"
   ]
  },
  {
   "cell_type": "code",
   "execution_count": 2,
   "metadata": {},
   "outputs": [
    {
     "name": "stdout",
     "output_type": "stream",
     "text": [
      "2025-01-27 11:42:20,851 - src.configuration.config_feature - WARNING - Model Flavor selected: mix\n"
     ]
    },
    {
     "name": "stderr",
     "output_type": "stream",
     "text": [
      "c:\\Users\\miche\\anaconda3\\envs\\forecasting\\Lib\\site-packages\\tqdm\\auto.py:21: TqdmWarning: IProgress not found. Please update jupyter and ipywidgets. See https://ipywidgets.readthedocs.io/en/stable/user_install.html\n",
      "  from .autonotebook import tqdm as notebook_tqdm\n"
     ]
    }
   ],
   "source": [
    "import pandas as pd\n",
    "import numpy as np\n",
    "import pandas_gbq\n",
    "import locale\n",
    "\n",
    "import src.utils.useful_functions as uf\n",
    "from src.models.train import *\n",
    "from src.models.evaluate import *\n",
    "\n",
    "from src.visualization.data_viz import *\n",
    "from scripts.run_train_and_predict import *\n",
    "from src.data.data_loader import load_and_preprocess_model_dataset\n",
    "\n",
    "%load_ext autoreload\n",
    "%autoreload 2\n",
    "\n",
    "pd.set_option('display.max_columns', None)"
   ]
  },
  {
   "cell_type": "code",
   "execution_count": 3,
   "metadata": {},
   "outputs": [
    {
     "data": {
      "text/plain": [
       "'Ridge'"
      ]
     },
     "execution_count": 3,
     "metadata": {},
     "output_type": "execute_result"
    }
   ],
   "source": [
    "type(get_models()['Ridge']).__name__"
   ]
  },
  {
   "cell_type": "markdown",
   "metadata": {},
   "source": [
    "### 1.2 Parameters setting"
   ]
  },
  {
   "cell_type": "code",
   "execution_count": 4,
   "metadata": {},
   "outputs": [],
   "source": [
    "TARGET_COL = model_config[\"target_col\"]\n",
    "PREDICTED_COL = model_config[\"predicted_col\"]\n",
    "FORECAST_HORIZON = model_config[\"forecast_horizon\"]\n",
    "N_SPLITS = model_config[\"n_windows\"]\n",
    "MODEL_NAME = model_config[\"model_name\"]\n",
    "USE_TUNED_PARMS = model_config[\"use_tuned_params\"]\n",
    "EXPERIMENT_PATH = model_config[\"mlflow_experiment_path_production\"]"
   ]
  },
  {
   "cell_type": "markdown",
   "metadata": {},
   "source": [
    "## 2.0 Data Loading"
   ]
  },
  {
   "cell_type": "code",
   "execution_count": 5,
   "metadata": {},
   "outputs": [],
   "source": [
    "feature_df = load_and_preprocess_model_dataset(\"featurized_df\")\n",
    "feature_df = feature_df.set_index(\"date\")"
   ]
  },
  {
   "cell_type": "markdown",
   "metadata": {},
   "source": [
    "## 4.0 Modeling: Multiple Tree-based models"
   ]
  },
  {
   "cell_type": "markdown",
   "metadata": {},
   "source": [
    "### 4.1 Running Backtesting with rolling window"
   ]
  },
  {
   "cell_type": "code",
   "execution_count": 5,
   "metadata": {},
   "outputs": [
    {
     "name": "stdout",
     "output_type": "stream",
     "text": [
      "2025-01-27 11:42:25,333 - scripts.run_train_and_predict - INFO - Starting the training pipeline...\n",
      "2025-01-27 11:42:25,383 - scripts.run_train_and_predict - INFO - Most recent date on training data: 2024-11-29 00:00:00\n",
      "2025-01-27 11:42:25,805 - scripts.run_train_and_predict - INFO - Training model [RandomForestRegressor] of flavor [mix]...\n",
      "Function 'train' executed in 0.83 seconds.\n"
     ]
    },
    {
     "name": "stderr",
     "output_type": "stream",
     "text": [
      "Downloading artifacts: 100%|██████████| 7/7 [00:00<00:00, 193.01it/s]\n"
     ]
    },
    {
     "name": "stdout",
     "output_type": "stream",
     "text": [
      "2025-01-27 11:42:35,956 - scripts.run_train_and_predict - INFO - Registering the model to MLflow...\n",
      "2025-01-27 11:42:35,956 - scripts.run_train_and_predict - INFO - Model registration URI: runs:/6ba3afde7a5a42aabd31cb597e8c9581/get_models_RandomForestRegressor_mix_01_2025\n"
     ]
    },
    {
     "name": "stderr",
     "output_type": "stream",
     "text": [
      "Registered model 'fcst_RandomForestRegressor_mix' already exists. Creating a new version of this model...\n",
      "Created version '10' of model 'fcst_RandomForestRegressor_mix'.\n"
     ]
    },
    {
     "name": "stdout",
     "output_type": "stream",
     "text": [
      "2025-01-27 11:42:36,462 - scripts.run_train_and_predict - INFO - Training model [XGBRegressor] of flavor [mix]...\n",
      "[0]\tvalidation_0-rmse:75.86817\tvalidation_1-rmse:76.21745\n",
      "[1]\tvalidation_0-rmse:53.93809\tvalidation_1-rmse:55.57516\n",
      "[2]\tvalidation_0-rmse:38.48476\tvalidation_1-rmse:41.37324\n",
      "[3]\tvalidation_0-rmse:27.63600\tvalidation_1-rmse:32.05943\n",
      "[4]\tvalidation_0-rmse:20.01516\tvalidation_1-rmse:25.83018\n",
      "[5]\tvalidation_0-rmse:14.65725\tvalidation_1-rmse:22.47275\n",
      "[6]\tvalidation_0-rmse:10.93058\tvalidation_1-rmse:20.48332\n",
      "[7]\tvalidation_0-rmse:8.32154\tvalidation_1-rmse:19.41821\n",
      "[8]\tvalidation_0-rmse:6.51430\tvalidation_1-rmse:18.70125\n",
      "[9]\tvalidation_0-rmse:5.26194\tvalidation_1-rmse:18.05239\n",
      "[10]\tvalidation_0-rmse:4.41267\tvalidation_1-rmse:17.82256\n",
      "[11]\tvalidation_0-rmse:3.79670\tvalidation_1-rmse:17.64857\n",
      "[12]\tvalidation_0-rmse:3.37282\tvalidation_1-rmse:17.54501\n",
      "[13]\tvalidation_0-rmse:3.08870\tvalidation_1-rmse:17.50244\n",
      "[14]\tvalidation_0-rmse:2.90694\tvalidation_1-rmse:17.47780\n",
      "[15]\tvalidation_0-rmse:2.68886\tvalidation_1-rmse:17.48114\n",
      "[16]\tvalidation_0-rmse:2.58988\tvalidation_1-rmse:17.46408\n",
      "[17]\tvalidation_0-rmse:2.49639\tvalidation_1-rmse:17.44005\n",
      "[18]\tvalidation_0-rmse:2.35844\tvalidation_1-rmse:17.39861\n",
      "[19]\tvalidation_0-rmse:2.28523\tvalidation_1-rmse:17.35692\n",
      "[20]\tvalidation_0-rmse:2.18767\tvalidation_1-rmse:17.28806\n",
      "[21]\tvalidation_0-rmse:2.14860\tvalidation_1-rmse:17.27652\n",
      "[22]\tvalidation_0-rmse:2.09676\tvalidation_1-rmse:17.32495\n",
      "[23]\tvalidation_0-rmse:2.03401\tvalidation_1-rmse:17.33353\n",
      "[24]\tvalidation_0-rmse:1.98737\tvalidation_1-rmse:17.33537\n",
      "[25]\tvalidation_0-rmse:1.96843\tvalidation_1-rmse:17.33735\n",
      "[26]\tvalidation_0-rmse:1.94406\tvalidation_1-rmse:17.33760\n",
      "[27]\tvalidation_0-rmse:1.92515\tvalidation_1-rmse:17.36383\n",
      "[28]\tvalidation_0-rmse:1.88666\tvalidation_1-rmse:17.34520\n",
      "[29]\tvalidation_0-rmse:1.79242\tvalidation_1-rmse:17.33490\n",
      "[30]\tvalidation_0-rmse:1.77852\tvalidation_1-rmse:17.32895\n",
      "[31]\tvalidation_0-rmse:1.74474\tvalidation_1-rmse:17.33755\n",
      "[32]\tvalidation_0-rmse:1.69504\tvalidation_1-rmse:17.33962\n",
      "[33]\tvalidation_0-rmse:1.63630\tvalidation_1-rmse:17.33679\n",
      "[34]\tvalidation_0-rmse:1.59590\tvalidation_1-rmse:17.34978\n",
      "[35]\tvalidation_0-rmse:1.55518\tvalidation_1-rmse:17.35193\n",
      "[36]\tvalidation_0-rmse:1.49624\tvalidation_1-rmse:17.36353\n",
      "[37]\tvalidation_0-rmse:1.45424\tvalidation_1-rmse:17.32745\n",
      "[38]\tvalidation_0-rmse:1.42547\tvalidation_1-rmse:17.32884\n",
      "[39]\tvalidation_0-rmse:1.39270\tvalidation_1-rmse:17.32184\n",
      "[40]\tvalidation_0-rmse:1.37681\tvalidation_1-rmse:17.32330\n",
      "[41]\tvalidation_0-rmse:1.35925\tvalidation_1-rmse:17.31931\n",
      "[42]\tvalidation_0-rmse:1.34570\tvalidation_1-rmse:17.31197\n",
      "[43]\tvalidation_0-rmse:1.31292\tvalidation_1-rmse:17.31744\n",
      "[44]\tvalidation_0-rmse:1.29160\tvalidation_1-rmse:17.31677\n",
      "[45]\tvalidation_0-rmse:1.27392\tvalidation_1-rmse:17.28760\n",
      "[46]\tvalidation_0-rmse:1.22426\tvalidation_1-rmse:17.28775\n",
      "[47]\tvalidation_0-rmse:1.21005\tvalidation_1-rmse:17.28893\n",
      "[48]\tvalidation_0-rmse:1.17628\tvalidation_1-rmse:17.31914\n",
      "[49]\tvalidation_0-rmse:1.13950\tvalidation_1-rmse:17.31447\n",
      "[50]\tvalidation_0-rmse:1.12626\tvalidation_1-rmse:17.31740\n",
      "[51]\tvalidation_0-rmse:1.10987\tvalidation_1-rmse:17.30686\n",
      "[52]\tvalidation_0-rmse:1.09851\tvalidation_1-rmse:17.31084\n",
      "[53]\tvalidation_0-rmse:1.09274\tvalidation_1-rmse:17.32137\n",
      "[54]\tvalidation_0-rmse:1.08079\tvalidation_1-rmse:17.32218\n",
      "[55]\tvalidation_0-rmse:1.05750\tvalidation_1-rmse:17.30696\n",
      "[56]\tvalidation_0-rmse:1.03766\tvalidation_1-rmse:17.31107\n",
      "[57]\tvalidation_0-rmse:1.02680\tvalidation_1-rmse:17.31579\n",
      "[58]\tvalidation_0-rmse:1.01095\tvalidation_1-rmse:17.30916\n",
      "[59]\tvalidation_0-rmse:0.98688\tvalidation_1-rmse:17.30880\n",
      "[60]\tvalidation_0-rmse:0.97791\tvalidation_1-rmse:17.30993\n",
      "[61]\tvalidation_0-rmse:0.95789\tvalidation_1-rmse:17.30918\n",
      "[62]\tvalidation_0-rmse:0.93754\tvalidation_1-rmse:17.30878\n",
      "[63]\tvalidation_0-rmse:0.91591\tvalidation_1-rmse:17.30612\n",
      "[64]\tvalidation_0-rmse:0.89983\tvalidation_1-rmse:17.30290\n",
      "[65]\tvalidation_0-rmse:0.86907\tvalidation_1-rmse:17.29048\n",
      "[66]\tvalidation_0-rmse:0.85327\tvalidation_1-rmse:17.28669\n",
      "[67]\tvalidation_0-rmse:0.84962\tvalidation_1-rmse:17.29246\n",
      "[68]\tvalidation_0-rmse:0.83549\tvalidation_1-rmse:17.32424\n",
      "[69]\tvalidation_0-rmse:0.82955\tvalidation_1-rmse:17.32242\n",
      "[70]\tvalidation_0-rmse:0.82570\tvalidation_1-rmse:17.32261\n",
      "[71]\tvalidation_0-rmse:0.81362\tvalidation_1-rmse:17.32173\n",
      "[72]\tvalidation_0-rmse:0.80388\tvalidation_1-rmse:17.32017\n",
      "[73]\tvalidation_0-rmse:0.79170\tvalidation_1-rmse:17.32495\n",
      "[74]\tvalidation_0-rmse:0.78945\tvalidation_1-rmse:17.32009\n",
      "[75]\tvalidation_0-rmse:0.78221\tvalidation_1-rmse:17.32714\n",
      "[76]\tvalidation_0-rmse:0.77653\tvalidation_1-rmse:17.32615\n",
      "[77]\tvalidation_0-rmse:0.77128\tvalidation_1-rmse:17.33027\n",
      "[78]\tvalidation_0-rmse:0.76609\tvalidation_1-rmse:17.32999\n",
      "[79]\tvalidation_0-rmse:0.76223\tvalidation_1-rmse:17.32777\n",
      "[80]\tvalidation_0-rmse:0.75240\tvalidation_1-rmse:17.32793\n",
      "[81]\tvalidation_0-rmse:0.74759\tvalidation_1-rmse:17.34368\n",
      "[82]\tvalidation_0-rmse:0.74253\tvalidation_1-rmse:17.34161\n",
      "[83]\tvalidation_0-rmse:0.73900\tvalidation_1-rmse:17.34088\n",
      "[84]\tvalidation_0-rmse:0.72473\tvalidation_1-rmse:17.33455\n",
      "[85]\tvalidation_0-rmse:0.72222\tvalidation_1-rmse:17.34542\n",
      "[86]\tvalidation_0-rmse:0.70840\tvalidation_1-rmse:17.34051\n",
      "[87]\tvalidation_0-rmse:0.69710\tvalidation_1-rmse:17.33859\n",
      "[88]\tvalidation_0-rmse:0.69290\tvalidation_1-rmse:17.33708\n",
      "[89]\tvalidation_0-rmse:0.69102\tvalidation_1-rmse:17.34061\n",
      "[90]\tvalidation_0-rmse:0.68365\tvalidation_1-rmse:17.33988\n",
      "[91]\tvalidation_0-rmse:0.67398\tvalidation_1-rmse:17.34173\n",
      "[92]\tvalidation_0-rmse:0.66687\tvalidation_1-rmse:17.33973\n",
      "[93]\tvalidation_0-rmse:0.66510\tvalidation_1-rmse:17.34117\n",
      "[94]\tvalidation_0-rmse:0.66129\tvalidation_1-rmse:17.34662\n",
      "[95]\tvalidation_0-rmse:0.65775\tvalidation_1-rmse:17.35098\n",
      "[96]\tvalidation_0-rmse:0.65400\tvalidation_1-rmse:17.35206\n",
      "[97]\tvalidation_0-rmse:0.64984\tvalidation_1-rmse:17.35532\n",
      "[98]\tvalidation_0-rmse:0.64553\tvalidation_1-rmse:17.36188\n",
      "[99]\tvalidation_0-rmse:0.64311\tvalidation_1-rmse:17.36094\n",
      "Function 'train' executed in 0.39 seconds.\n"
     ]
    },
    {
     "name": "stderr",
     "output_type": "stream",
     "text": [
      "Downloading artifacts: 100%|██████████| 7/7 [00:00<00:00, 199.99it/s]\n"
     ]
    },
    {
     "name": "stdout",
     "output_type": "stream",
     "text": [
      "2025-01-27 11:42:44,999 - scripts.run_train_and_predict - INFO - Registering the model to MLflow...\n",
      "2025-01-27 11:42:44,999 - scripts.run_train_and_predict - INFO - Model registration URI: runs:/2ea393c0cdd4473e897b80905be0b2d2/get_models_XGBRegressor_mix_01_2025\n"
     ]
    },
    {
     "name": "stderr",
     "output_type": "stream",
     "text": [
      "Registered model 'fcst_XGBRegressor_mix' already exists. Creating a new version of this model...\n",
      "Created version '11' of model 'fcst_XGBRegressor_mix'.\n"
     ]
    },
    {
     "name": "stdout",
     "output_type": "stream",
     "text": [
      "2025-01-27 11:42:46,068 - scripts.run_train_and_predict - INFO - Training model [LGBMRegressor] of flavor [mix]...\n",
      "Function 'train' executed in 0.43 seconds.\n"
     ]
    },
    {
     "name": "stderr",
     "output_type": "stream",
     "text": [
      "Downloading artifacts: 100%|██████████| 7/7 [00:00<00:00, 251.47it/s]\n"
     ]
    },
    {
     "name": "stdout",
     "output_type": "stream",
     "text": [
      "2025-01-27 11:42:54,338 - scripts.run_train_and_predict - INFO - Registering the model to MLflow...\n",
      "2025-01-27 11:42:54,338 - scripts.run_train_and_predict - INFO - Model registration URI: runs:/bbc8b83fbd164a989996f8a0def1a399/get_models_LGBMRegressor_mix_01_2025\n"
     ]
    },
    {
     "name": "stderr",
     "output_type": "stream",
     "text": [
      "Registered model 'fcst_LGBMRegressor_mix' already exists. Creating a new version of this model...\n",
      "Created version '11' of model 'fcst_LGBMRegressor_mix'.\n"
     ]
    },
    {
     "name": "stdout",
     "output_type": "stream",
     "text": [
      "2025-01-27 11:42:54,884 - scripts.run_train_and_predict - INFO - Training model [CatBoostRegressor] of flavor [mix]...\n",
      "Learning rate set to 0.039032\n",
      "0:\tlearn: 103.6015012\ttest: 103.6015012\ttest1: 101.5443889\tbest: 101.5443889 (0)\ttotal: 156ms\tremaining: 2m 36s\n",
      "999:\tlearn: 2.7271588\ttest: 2.7271588\ttest1: 16.5292452\tbest: 16.5181977 (671)\ttotal: 3.1s\tremaining: 0us\n",
      "\n",
      "bestTest = 16.51819767\n",
      "bestIteration = 671\n",
      "\n",
      "Function 'train' executed in 3.45 seconds.\n"
     ]
    },
    {
     "name": "stderr",
     "output_type": "stream",
     "text": [
      "Downloading artifacts: 100%|██████████| 7/7 [00:00<00:00, 353.61it/s] \n"
     ]
    },
    {
     "name": "stdout",
     "output_type": "stream",
     "text": [
      "2025-01-27 11:43:05,386 - scripts.run_train_and_predict - INFO - Registering the model to MLflow...\n",
      "2025-01-27 11:43:05,386 - scripts.run_train_and_predict - INFO - Model registration URI: runs:/4dfbb1a07fc040afad5cad5f7d1814b2/get_models_CatBoostRegressor_mix_01_2025\n"
     ]
    },
    {
     "name": "stderr",
     "output_type": "stream",
     "text": [
      "Registered model 'fcst_CatBoostRegressor_mix' already exists. Creating a new version of this model...\n",
      "Created version '11' of model 'fcst_CatBoostRegressor_mix'.\n"
     ]
    },
    {
     "name": "stdout",
     "output_type": "stream",
     "text": [
      "2025-01-27 11:43:05,801 - scripts.run_train_and_predict - INFO - Training model [auto_arima] of flavor [mix]...\n",
      "Function 'train' executed in 3.12 seconds.\n"
     ]
    },
    {
     "name": "stderr",
     "output_type": "stream",
     "text": [
      "Downloading artifacts: 100%|██████████| 7/7 [00:00<00:00, 315.61it/s]\n"
     ]
    },
    {
     "name": "stdout",
     "output_type": "stream",
     "text": [
      "2025-01-27 11:43:16,524 - scripts.run_train_and_predict - INFO - Registering the model to MLflow...\n",
      "2025-01-27 11:43:16,525 - scripts.run_train_and_predict - INFO - Model registration URI: runs:/20f398c5686b48afae50376ea6930e33/get_models_auto_arima_mix_01_2025\n"
     ]
    },
    {
     "name": "stderr",
     "output_type": "stream",
     "text": [
      "Registered model 'fcst_auto_arima_mix' already exists. Creating a new version of this model...\n",
      "Created version '8' of model 'fcst_auto_arima_mix'.\n"
     ]
    },
    {
     "name": "stdout",
     "output_type": "stream",
     "text": [
      "2025-01-27 11:43:16,900 - scripts.run_train_and_predict - INFO - Training model [ExtraTreeRegressor] of flavor [mix]...\n",
      "Function 'train' executed in 0.01 seconds.\n"
     ]
    },
    {
     "name": "stderr",
     "output_type": "stream",
     "text": [
      "Downloading artifacts: 100%|██████████| 7/7 [00:00<00:00, 506.70it/s]\n"
     ]
    },
    {
     "name": "stdout",
     "output_type": "stream",
     "text": [
      "2025-01-27 11:43:22,755 - scripts.run_train_and_predict - INFO - Registering the model to MLflow...\n",
      "2025-01-27 11:43:22,765 - scripts.run_train_and_predict - INFO - Model registration URI: runs:/84cf5a48647749e78d7432544dc73137/get_models_ExtraTreeRegressor_mix_01_2025\n"
     ]
    },
    {
     "name": "stderr",
     "output_type": "stream",
     "text": [
      "Registered model 'fcst_ExtraTreeRegressor_mix' already exists. Creating a new version of this model...\n",
      "Created version '10' of model 'fcst_ExtraTreeRegressor_mix'.\n"
     ]
    },
    {
     "name": "stdout",
     "output_type": "stream",
     "text": [
      "2025-01-27 11:43:23,321 - scripts.run_train_and_predict - INFO - Training model [Ridge] of flavor [mix]...\n",
      "Function 'train' executed in 0.01 seconds.\n"
     ]
    },
    {
     "name": "stderr",
     "output_type": "stream",
     "text": [
      "Downloading artifacts: 100%|██████████| 7/7 [00:00<00:00, 395.32it/s] "
     ]
    },
    {
     "name": "stdout",
     "output_type": "stream",
     "text": [
      "2025-01-27 11:43:30,160 - scripts.run_train_and_predict - INFO - Registering the model to MLflow...\n"
     ]
    },
    {
     "name": "stderr",
     "output_type": "stream",
     "text": [
      "\n"
     ]
    },
    {
     "name": "stdout",
     "output_type": "stream",
     "text": [
      "2025-01-27 11:43:30,160 - scripts.run_train_and_predict - INFO - Model registration URI: runs:/063f4c4bed8b4c2b8a7c7119bd263e3f/get_models_Ridge_mix_01_2025\n"
     ]
    },
    {
     "name": "stderr",
     "output_type": "stream",
     "text": [
      "Registered model 'fcst_Ridge_mix' already exists. Creating a new version of this model...\n",
      "Created version '2' of model 'fcst_Ridge_mix'.\n"
     ]
    },
    {
     "name": "stdout",
     "output_type": "stream",
     "text": [
      "2025-01-27 11:43:30,409 - scripts.run_train_and_predict - INFO - Training model [SVR] of flavor [mix]...\n",
      "Function 'train' executed in 0.04 seconds.\n"
     ]
    },
    {
     "name": "stderr",
     "output_type": "stream",
     "text": [
      "Downloading artifacts: 100%|██████████| 7/7 [00:00<00:00, 306.99it/s] \n"
     ]
    },
    {
     "name": "stdout",
     "output_type": "stream",
     "text": [
      "2025-01-27 11:43:36,453 - scripts.run_train_and_predict - INFO - Registering the model to MLflow...\n",
      "2025-01-27 11:43:36,455 - scripts.run_train_and_predict - INFO - Model registration URI: runs:/98499425fb21460ba458a19253824e93/get_models_SVR_mix_01_2025\n",
      "2025-01-27 11:43:36,597 - scripts.run_train_and_predict - INFO - Training Pipeline completed successfully!\n",
      "Function 'training_pipeline' executed in 71.26 seconds.\n"
     ]
    },
    {
     "name": "stderr",
     "output_type": "stream",
     "text": [
      "Registered model 'fcst_SVR_mix' already exists. Creating a new version of this model...\n",
      "Created version '2' of model 'fcst_SVR_mix'.\n"
     ]
    }
   ],
   "source": [
    "trained_models      = training_pipeline(\n",
    "    model_df        = feature_df,\n",
    "    models_list     = models_list,\n",
    "    experiment_path = EXPERIMENT_PATH,\n",
    "    model_name      = MODEL_NAME,\n",
    "    load_best_params= False,\n",
    ")"
   ]
  },
  {
   "cell_type": "code",
   "execution_count": null,
   "metadata": {},
   "outputs": [],
   "source": []
  }
 ],
 "metadata": {
  "kernelspec": {
   "display_name": "forecasting",
   "language": "python",
   "name": "python3"
  },
  "language_info": {
   "codemirror_mode": {
    "name": "ipython",
    "version": 3
   },
   "file_extension": ".py",
   "mimetype": "text/x-python",
   "name": "python",
   "nbconvert_exporter": "python",
   "pygments_lexer": "ipython3",
   "version": "3.11.11"
  }
 },
 "nbformat": 4,
 "nbformat_minor": 2
}
