{
 "cells": [
  {
   "cell_type": "markdown",
   "metadata": {},
   "source": [
    "# |PIX Forecasting - Modeling| Performing Out-of-sample inference.\n",
    "\n",
    "**Objective**: Load the production logged models and predict the next forecast horizon periods.\n"
   ]
  },
  {
   "cell_type": "markdown",
   "metadata": {},
   "source": [
    "## 1.0 Imports"
   ]
  },
  {
   "cell_type": "markdown",
   "metadata": {},
   "source": [
    "### 1.1 Setting working directory"
   ]
  },
  {
   "cell_type": "code",
   "execution_count": 1,
   "metadata": {},
   "outputs": [],
   "source": [
    "import sys\n",
    "import os\n",
    "\n",
    "if not os.getcwd().split(\"\\\\\")[-1] == \"ip_forecasting\":\n",
    "    notebook_dir = os.path.dirname(\n",
    "        os.path.abspath(\"__file__\")\n",
    "    )\n",
    "    project_root = os.path.abspath(os.path.join(notebook_dir, \"../\"))\n",
    "    os.chdir(project_root)"
   ]
  },
  {
   "cell_type": "code",
   "execution_count": 3,
   "metadata": {},
   "outputs": [],
   "source": [
    "import pandas as pd\n",
    "import numpy as np\n",
    "import pandas_gbq\n",
    "import locale\n",
    "\n",
    "import matplotlib.pyplot as plt\n",
    "import seaborn as sns\n",
    "import plotly.express as px\n",
    "import plotly.graph_objects as go\n",
    "from plotly.subplots import make_subplots\n",
    "\n",
    "import mlflow\n",
    "import mlflow.sklearn\n",
    "\n",
    "import src.utils.useful_functions as uf\n",
    "from src.data.data_loader import load_and_preprocess_model_dataset\n",
    "from src.models.evaluate import *\n",
    "from src.visualization.data_viz import *\n",
    "from scripts.run_inference import *\n",
    "from src.features.feat_eng import *\n",
    "from src.visualization.data_viz import plot_multiple_models_forecast\n",
    "\n",
    "%load_ext autoreload\n",
    "%autoreload 2\n",
    "\n",
    "pd.set_option('display.max_columns', None)"
   ]
  },
  {
   "cell_type": "markdown",
   "metadata": {},
   "source": [
    "### 1.2 Parameter setting"
   ]
  },
  {
   "cell_type": "code",
   "execution_count": 3,
   "metadata": {},
   "outputs": [],
   "source": [
    "TARGET_COL          = model_config[\"target_col\"]\n",
    "PREDICTED_COL       = model_config[\"predicted_col\"]\n",
    "FORECAST_HORIZON    = model_config[\"forecast_horizon\"]\n",
    "N_SPLITS            = model_config[\"n_windows\"]\n",
    "MODEL_NAME          = model_config[\"model_name\"]\n",
    "USE_TUNED_PARMS     = model_config[\"use_tuned_params\"]\n",
    "EXPERIMENT_PATH     = model_config[\"mlflow_experiment_path_production\"]\n",
    "models_list         = list(get_models().keys())"
   ]
  },
  {
   "cell_type": "markdown",
   "metadata": {},
   "source": [
    "## 2.0 Data Loading"
   ]
  },
  {
   "cell_type": "code",
   "execution_count": 4,
   "metadata": {},
   "outputs": [],
   "source": [
    "feature_df = load_and_preprocess_model_dataset(\"featurized_df\")\n",
    "feature_df = feature_df.set_index(\"date\")"
   ]
  },
  {
   "cell_type": "markdown",
   "metadata": {},
   "source": [
    "## 3.0 Out of Sample Forecasting"
   ]
  },
  {
   "cell_type": "code",
   "execution_count": 5,
   "metadata": {},
   "outputs": [
    {
     "name": "stderr",
     "output_type": "stream",
     "text": [
      "100%|██████████| 1/1 [00:00<00:00, 72.94it/s]\n",
      "100%|██████████| 1/1 [00:00<?, ?it/s]\n",
      "100%|██████████| 1/1 [00:00<00:00, 113.68it/s]\n",
      "100%|██████████| 1/1 [00:00<00:00, 118.91it/s]\n",
      "100%|██████████| 1/1 [00:00<00:00, 127.54it/s]\n",
      "100%|██████████| 1/1 [00:00<00:00, 133.05it/s]\n"
     ]
    },
    {
     "name": "stdout",
     "output_type": "stream",
     "text": [
      "Function 'inference_pipeline' executed in 127.14 seconds.\n"
     ]
    }
   ],
   "source": [
    "final_predictions_df, future_df, shap_values_inference = inference_pipeline(\n",
    "    processed_ip_dataset    = feature_df,\n",
    "    models_list             = models_list,\n",
    "    model_name              = MODEL_NAME,\n",
    "    experiment_path         = EXPERIMENT_PATH,\n",
    "    write_to_table          = True,\n",
    "    log_to_experiment       = True,\n",
    ")"
   ]
  },
  {
   "cell_type": "code",
   "execution_count": 6,
   "metadata": {},
   "outputs": [],
   "source": [
    "matplotlib.rcParams.update({\"font.size\": 13})"
   ]
  },
  {
   "cell_type": "code",
   "execution_count": 7,
   "metadata": {},
   "outputs": [
    {
     "data": {
      "text/html": [
       "<div>\n",
       "<style scoped>\n",
       "    .dataframe tbody tr th:only-of-type {\n",
       "        vertical-align: middle;\n",
       "    }\n",
       "\n",
       "    .dataframe tbody tr th {\n",
       "        vertical-align: top;\n",
       "    }\n",
       "\n",
       "    .dataframe thead th {\n",
       "        text-align: right;\n",
       "    }\n",
       "</style>\n",
       "<table border=\"1\" class=\"dataframe\">\n",
       "  <thead>\n",
       "    <tr style=\"text-align: right;\">\n",
       "      <th></th>\n",
       "      <th>date</th>\n",
       "      <th>index_price_lag_1</th>\n",
       "      <th>index_price_lag_2</th>\n",
       "      <th>index_price_sma_3</th>\n",
       "      <th>index_price_sma_12</th>\n",
       "      <th>comparison_index_price_shift_4_5</th>\n",
       "      <th>bband_spread_8</th>\n",
       "      <th>bband_spread_20</th>\n",
       "      <th>index_vs_market_price_lag_6</th>\n",
       "      <th>imports_lag_6</th>\n",
       "      <th>inventories_lag_16</th>\n",
       "      <th>inventories_lag_20</th>\n",
       "      <th>europulp_lag_6</th>\n",
       "      <th>europulp_lag_14</th>\n",
       "      <th>second_market_price_lag_3</th>\n",
       "      <th>final_product_price_lag_2</th>\n",
       "      <th>FORECAST</th>\n",
       "      <th>WEEK</th>\n",
       "      <th>PIX_REFERENECE</th>\n",
       "      <th>MODEL_TYPE</th>\n",
       "      <th>MODEL_FLAVOR</th>\n",
       "      <th>RUN_DATE</th>\n",
       "      <th>RUN_DATETIME</th>\n",
       "      <th>MODEL_URI</th>\n",
       "    </tr>\n",
       "  </thead>\n",
       "  <tbody>\n",
       "    <tr>\n",
       "      <th>5</th>\n",
       "      <td>2025-01-10</td>\n",
       "      <td>558.181478</td>\n",
       "      <td>558.612797</td>\n",
       "      <td>558.045922</td>\n",
       "      <td>555.374040</td>\n",
       "      <td>0.996601</td>\n",
       "      <td>19.584072</td>\n",
       "      <td>59.038493</td>\n",
       "      <td>17.29</td>\n",
       "      <td>1.526127e+09</td>\n",
       "      <td>2011.28950</td>\n",
       "      <td>2088.1364</td>\n",
       "      <td>1501.29500</td>\n",
       "      <td>1571.25000</td>\n",
       "      <td>519.778102</td>\n",
       "      <td>6006.560918</td>\n",
       "      <td>555.825617</td>\n",
       "      <td>6</td>\n",
       "      <td>545.88</td>\n",
       "      <td>LGBMRegressor</td>\n",
       "      <td>mix</td>\n",
       "      <td>2025-01-27</td>\n",
       "      <td>2025-01-27 13:40:26.070553</td>\n",
       "      <td>file:///C:/Users/miche/Documents/projects/ip_f...</td>\n",
       "    </tr>\n",
       "    <tr>\n",
       "      <th>0</th>\n",
       "      <td>2024-12-06</td>\n",
       "      <td>545.880000</td>\n",
       "      <td>545.880000</td>\n",
       "      <td>548.853333</td>\n",
       "      <td>558.870833</td>\n",
       "      <td>99.800356</td>\n",
       "      <td>24.680949</td>\n",
       "      <td>232.514607</td>\n",
       "      <td>2.87</td>\n",
       "      <td>1.526127e+09</td>\n",
       "      <td>2063.23160</td>\n",
       "      <td>1961.6780</td>\n",
       "      <td>1518.78375</td>\n",
       "      <td>1454.66460</td>\n",
       "      <td>536.150000</td>\n",
       "      <td>6150.000000</td>\n",
       "      <td>545.335500</td>\n",
       "      <td>1</td>\n",
       "      <td>545.88</td>\n",
       "      <td>RandomForestRegressor</td>\n",
       "      <td>mix</td>\n",
       "      <td>2025-01-27</td>\n",
       "      <td>2025-01-27 13:39:48.650935</td>\n",
       "      <td>file:///C:/Users/miche/Documents/projects/ip_f...</td>\n",
       "    </tr>\n",
       "    <tr>\n",
       "      <th>2</th>\n",
       "      <td>2024-12-20</td>\n",
       "      <td>554.998781</td>\n",
       "      <td>556.891932</td>\n",
       "      <td>552.590238</td>\n",
       "      <td>556.153393</td>\n",
       "      <td>0.983922</td>\n",
       "      <td>18.603126</td>\n",
       "      <td>114.266015</td>\n",
       "      <td>11.32</td>\n",
       "      <td>1.526127e+09</td>\n",
       "      <td>2113.04120</td>\n",
       "      <td>2013.4220</td>\n",
       "      <td>1501.29500</td>\n",
       "      <td>1516.22325</td>\n",
       "      <td>528.590000</td>\n",
       "      <td>6064.165944</td>\n",
       "      <td>557.343490</td>\n",
       "      <td>3</td>\n",
       "      <td>545.88</td>\n",
       "      <td>LGBMRegressor</td>\n",
       "      <td>mix</td>\n",
       "      <td>2025-01-27</td>\n",
       "      <td>2025-01-27 13:40:26.070553</td>\n",
       "      <td>file:///C:/Users/miche/Documents/projects/ip_f...</td>\n",
       "    </tr>\n",
       "    <tr>\n",
       "      <th>2</th>\n",
       "      <td>2024-12-20</td>\n",
       "      <td>546.166992</td>\n",
       "      <td>548.120544</td>\n",
       "      <td>546.722512</td>\n",
       "      <td>554.686461</td>\n",
       "      <td>0.983922</td>\n",
       "      <td>20.293239</td>\n",
       "      <td>116.999241</td>\n",
       "      <td>11.32</td>\n",
       "      <td>1.526127e+09</td>\n",
       "      <td>2113.04120</td>\n",
       "      <td>2013.4220</td>\n",
       "      <td>1501.29500</td>\n",
       "      <td>1516.22325</td>\n",
       "      <td>528.590000</td>\n",
       "      <td>6064.165944</td>\n",
       "      <td>547.042969</td>\n",
       "      <td>3</td>\n",
       "      <td>545.88</td>\n",
       "      <td>XGBRegressor</td>\n",
       "      <td>mix</td>\n",
       "      <td>2025-01-27</td>\n",
       "      <td>2025-01-27 13:40:06.286449</td>\n",
       "      <td>file:///C:/Users/miche/Documents/projects/ip_f...</td>\n",
       "    </tr>\n",
       "    <tr>\n",
       "      <th>4</th>\n",
       "      <td>2025-01-03</td>\n",
       "      <td>548.093201</td>\n",
       "      <td>547.042969</td>\n",
       "      <td>547.101074</td>\n",
       "      <td>552.401976</td>\n",
       "      <td>1.004104</td>\n",
       "      <td>14.210801</td>\n",
       "      <td>83.155693</td>\n",
       "      <td>11.18</td>\n",
       "      <td>1.526127e+09</td>\n",
       "      <td>2074.61775</td>\n",
       "      <td>2063.2316</td>\n",
       "      <td>1501.29500</td>\n",
       "      <td>1552.90775</td>\n",
       "      <td>521.882436</td>\n",
       "      <td>6017.137556</td>\n",
       "      <td>547.616455</td>\n",
       "      <td>5</td>\n",
       "      <td>545.88</td>\n",
       "      <td>XGBRegressor</td>\n",
       "      <td>mix</td>\n",
       "      <td>2025-01-27</td>\n",
       "      <td>2025-01-27 13:40:06.286449</td>\n",
       "      <td>file:///C:/Users/miche/Documents/projects/ip_f...</td>\n",
       "    </tr>\n",
       "  </tbody>\n",
       "</table>\n",
       "</div>"
      ],
      "text/plain": [
       "        date  index_price_lag_1  index_price_lag_2  index_price_sma_3  \\\n",
       "5 2025-01-10         558.181478         558.612797         558.045922   \n",
       "0 2024-12-06         545.880000         545.880000         548.853333   \n",
       "2 2024-12-20         554.998781         556.891932         552.590238   \n",
       "2 2024-12-20         546.166992         548.120544         546.722512   \n",
       "4 2025-01-03         548.093201         547.042969         547.101074   \n",
       "\n",
       "   index_price_sma_12  comparison_index_price_shift_4_5  bband_spread_8  \\\n",
       "5          555.374040                          0.996601       19.584072   \n",
       "0          558.870833                         99.800356       24.680949   \n",
       "2          556.153393                          0.983922       18.603126   \n",
       "2          554.686461                          0.983922       20.293239   \n",
       "4          552.401976                          1.004104       14.210801   \n",
       "\n",
       "   bband_spread_20  index_vs_market_price_lag_6  imports_lag_6  \\\n",
       "5        59.038493                        17.29   1.526127e+09   \n",
       "0       232.514607                         2.87   1.526127e+09   \n",
       "2       114.266015                        11.32   1.526127e+09   \n",
       "2       116.999241                        11.32   1.526127e+09   \n",
       "4        83.155693                        11.18   1.526127e+09   \n",
       "\n",
       "   inventories_lag_16  inventories_lag_20  europulp_lag_6  europulp_lag_14  \\\n",
       "5          2011.28950           2088.1364      1501.29500       1571.25000   \n",
       "0          2063.23160           1961.6780      1518.78375       1454.66460   \n",
       "2          2113.04120           2013.4220      1501.29500       1516.22325   \n",
       "2          2113.04120           2013.4220      1501.29500       1516.22325   \n",
       "4          2074.61775           2063.2316      1501.29500       1552.90775   \n",
       "\n",
       "   second_market_price_lag_3  final_product_price_lag_2    FORECAST  WEEK  \\\n",
       "5                 519.778102                6006.560918  555.825617     6   \n",
       "0                 536.150000                6150.000000  545.335500     1   \n",
       "2                 528.590000                6064.165944  557.343490     3   \n",
       "2                 528.590000                6064.165944  547.042969     3   \n",
       "4                 521.882436                6017.137556  547.616455     5   \n",
       "\n",
       "   PIX_REFERENECE             MODEL_TYPE MODEL_FLAVOR    RUN_DATE  \\\n",
       "5          545.88          LGBMRegressor          mix  2025-01-27   \n",
       "0          545.88  RandomForestRegressor          mix  2025-01-27   \n",
       "2          545.88          LGBMRegressor          mix  2025-01-27   \n",
       "2          545.88           XGBRegressor          mix  2025-01-27   \n",
       "4          545.88           XGBRegressor          mix  2025-01-27   \n",
       "\n",
       "                 RUN_DATETIME  \\\n",
       "5  2025-01-27 13:40:26.070553   \n",
       "0  2025-01-27 13:39:48.650935   \n",
       "2  2025-01-27 13:40:26.070553   \n",
       "2  2025-01-27 13:40:06.286449   \n",
       "4  2025-01-27 13:40:06.286449   \n",
       "\n",
       "                                           MODEL_URI  \n",
       "5  file:///C:/Users/miche/Documents/projects/ip_f...  \n",
       "0  file:///C:/Users/miche/Documents/projects/ip_f...  \n",
       "2  file:///C:/Users/miche/Documents/projects/ip_f...  \n",
       "2  file:///C:/Users/miche/Documents/projects/ip_f...  \n",
       "4  file:///C:/Users/miche/Documents/projects/ip_f...  "
      ]
     },
     "execution_count": 7,
     "metadata": {},
     "output_type": "execute_result"
    }
   ],
   "source": [
    "final_predictions_df.sample(5)"
   ]
  },
  {
   "cell_type": "code",
   "execution_count": 44,
   "metadata": {},
   "outputs": [
    {
     "data": {
      "application/vnd.plotly.v1+json": {
       "config": {
        "plotlyServerURL": "https://plot.ly"
       },
       "data": [
        {
         "mode": "lines",
         "name": "Training Data",
         "type": "scatter",
         "x": [
          "2024-10-25T00:00:00",
          "2024-11-01T00:00:00",
          "2024-11-08T00:00:00",
          "2024-11-15T00:00:00",
          "2024-11-22T00:00:00",
          "2024-11-29T00:00:00"
         ],
         "y": [
          559.28,
          555.99,
          554.88,
          554.8,
          545.88,
          545.88
         ]
        },
        {
         "mode": "lines",
         "name": "RandomForestRegressor",
         "type": "scatter",
         "x": [
          "2024-12-06T00:00:00",
          "2024-12-13T00:00:00",
          "2024-12-20T00:00:00",
          "2024-12-27T00:00:00",
          "2025-01-03T00:00:00",
          "2025-01-10T00:00:00"
         ],
         "y": [
          545.3354999999993,
          544.0416999999994,
          543.9565999999994,
          544.1299999999995,
          544.3269999999997,
          543.8763999999998
         ]
        },
        {
         "mode": "lines",
         "name": "XGBRegressor",
         "type": "scatter",
         "x": [
          "2024-12-06T00:00:00",
          "2024-12-13T00:00:00",
          "2024-12-20T00:00:00",
          "2024-12-27T00:00:00",
          "2025-01-03T00:00:00",
          "2025-01-10T00:00:00"
         ],
         "y": [
          548.1205444335938,
          546.1669921875,
          547.04296875,
          548.0932006835938,
          547.616455078125,
          548.4502563476562
         ]
        },
        {
         "mode": "lines",
         "name": "LGBMRegressor",
         "type": "scatter",
         "x": [
          "2024-12-06T00:00:00",
          "2024-12-13T00:00:00",
          "2024-12-20T00:00:00",
          "2024-12-27T00:00:00",
          "2025-01-03T00:00:00",
          "2025-01-10T00:00:00"
         ],
         "y": [
          556.8919319137347,
          554.9987811293325,
          557.3434903040991,
          558.6127972371304,
          558.1814779084696,
          555.82561699846
         ]
        },
        {
         "mode": "lines",
         "name": "CatBoostRegressor",
         "type": "scatter",
         "x": [
          "2024-12-06T00:00:00",
          "2024-12-13T00:00:00",
          "2024-12-20T00:00:00",
          "2024-12-27T00:00:00",
          "2025-01-03T00:00:00",
          "2025-01-10T00:00:00"
         ],
         "y": [
          547.3174842121406,
          541.6569024211523,
          537.8118137280642,
          535.1593890569368,
          538.4418059575106,
          538.6800213799705
         ]
        },
        {
         "mode": "lines",
         "name": "ExtraTreeRegressor",
         "type": "scatter",
         "x": [
          "2024-12-06T00:00:00",
          "2024-12-13T00:00:00",
          "2024-12-20T00:00:00",
          "2024-12-27T00:00:00",
          "2025-01-03T00:00:00",
          "2025-01-10T00:00:00"
         ],
         "y": [
          545.88,
          545.88,
          545.88,
          545.88,
          545.88,
          545.88
         ]
        },
        {
         "mode": "lines",
         "name": "Ridge",
         "type": "scatter",
         "x": [
          "2024-12-06T00:00:00",
          "2024-12-13T00:00:00",
          "2024-12-20T00:00:00",
          "2024-12-27T00:00:00",
          "2025-01-03T00:00:00",
          "2025-01-10T00:00:00"
         ],
         "y": [
          543.749580600551,
          472.76336836603184,
          387.07211005932845,
          294.0327830588977,
          201.02817784893716,
          112.46619813172413
         ]
        },
        {
         "mode": "lines",
         "name": "SVR",
         "type": "scatter",
         "x": [
          "2024-12-06T00:00:00",
          "2024-12-13T00:00:00",
          "2024-12-20T00:00:00",
          "2024-12-27T00:00:00",
          "2025-01-03T00:00:00",
          "2025-01-10T00:00:00"
         ],
         "y": [
          659.0853704175181,
          659.085370417516,
          659.0853704175177,
          659.0853704175099,
          659.08537041751,
          659.0853704175121
         ]
        }
       ],
       "layout": {
        "legend": {
         "title": {
          "text": "Model"
         }
        },
        "template": {
         "data": {
          "bar": [
           {
            "error_x": {
             "color": "#f2f5fa"
            },
            "error_y": {
             "color": "#f2f5fa"
            },
            "marker": {
             "line": {
              "color": "rgb(17,17,17)",
              "width": 0.5
             },
             "pattern": {
              "fillmode": "overlay",
              "size": 10,
              "solidity": 0.2
             }
            },
            "type": "bar"
           }
          ],
          "barpolar": [
           {
            "marker": {
             "line": {
              "color": "rgb(17,17,17)",
              "width": 0.5
             },
             "pattern": {
              "fillmode": "overlay",
              "size": 10,
              "solidity": 0.2
             }
            },
            "type": "barpolar"
           }
          ],
          "carpet": [
           {
            "aaxis": {
             "endlinecolor": "#A2B1C6",
             "gridcolor": "#506784",
             "linecolor": "#506784",
             "minorgridcolor": "#506784",
             "startlinecolor": "#A2B1C6"
            },
            "baxis": {
             "endlinecolor": "#A2B1C6",
             "gridcolor": "#506784",
             "linecolor": "#506784",
             "minorgridcolor": "#506784",
             "startlinecolor": "#A2B1C6"
            },
            "type": "carpet"
           }
          ],
          "choropleth": [
           {
            "colorbar": {
             "outlinewidth": 0,
             "ticks": ""
            },
            "type": "choropleth"
           }
          ],
          "contour": [
           {
            "colorbar": {
             "outlinewidth": 0,
             "ticks": ""
            },
            "colorscale": [
             [
              0,
              "#0d0887"
             ],
             [
              0.1111111111111111,
              "#46039f"
             ],
             [
              0.2222222222222222,
              "#7201a8"
             ],
             [
              0.3333333333333333,
              "#9c179e"
             ],
             [
              0.4444444444444444,
              "#bd3786"
             ],
             [
              0.5555555555555556,
              "#d8576b"
             ],
             [
              0.6666666666666666,
              "#ed7953"
             ],
             [
              0.7777777777777778,
              "#fb9f3a"
             ],
             [
              0.8888888888888888,
              "#fdca26"
             ],
             [
              1,
              "#f0f921"
             ]
            ],
            "type": "contour"
           }
          ],
          "contourcarpet": [
           {
            "colorbar": {
             "outlinewidth": 0,
             "ticks": ""
            },
            "type": "contourcarpet"
           }
          ],
          "heatmap": [
           {
            "colorbar": {
             "outlinewidth": 0,
             "ticks": ""
            },
            "colorscale": [
             [
              0,
              "#0d0887"
             ],
             [
              0.1111111111111111,
              "#46039f"
             ],
             [
              0.2222222222222222,
              "#7201a8"
             ],
             [
              0.3333333333333333,
              "#9c179e"
             ],
             [
              0.4444444444444444,
              "#bd3786"
             ],
             [
              0.5555555555555556,
              "#d8576b"
             ],
             [
              0.6666666666666666,
              "#ed7953"
             ],
             [
              0.7777777777777778,
              "#fb9f3a"
             ],
             [
              0.8888888888888888,
              "#fdca26"
             ],
             [
              1,
              "#f0f921"
             ]
            ],
            "type": "heatmap"
           }
          ],
          "heatmapgl": [
           {
            "colorbar": {
             "outlinewidth": 0,
             "ticks": ""
            },
            "colorscale": [
             [
              0,
              "#0d0887"
             ],
             [
              0.1111111111111111,
              "#46039f"
             ],
             [
              0.2222222222222222,
              "#7201a8"
             ],
             [
              0.3333333333333333,
              "#9c179e"
             ],
             [
              0.4444444444444444,
              "#bd3786"
             ],
             [
              0.5555555555555556,
              "#d8576b"
             ],
             [
              0.6666666666666666,
              "#ed7953"
             ],
             [
              0.7777777777777778,
              "#fb9f3a"
             ],
             [
              0.8888888888888888,
              "#fdca26"
             ],
             [
              1,
              "#f0f921"
             ]
            ],
            "type": "heatmapgl"
           }
          ],
          "histogram": [
           {
            "marker": {
             "pattern": {
              "fillmode": "overlay",
              "size": 10,
              "solidity": 0.2
             }
            },
            "type": "histogram"
           }
          ],
          "histogram2d": [
           {
            "colorbar": {
             "outlinewidth": 0,
             "ticks": ""
            },
            "colorscale": [
             [
              0,
              "#0d0887"
             ],
             [
              0.1111111111111111,
              "#46039f"
             ],
             [
              0.2222222222222222,
              "#7201a8"
             ],
             [
              0.3333333333333333,
              "#9c179e"
             ],
             [
              0.4444444444444444,
              "#bd3786"
             ],
             [
              0.5555555555555556,
              "#d8576b"
             ],
             [
              0.6666666666666666,
              "#ed7953"
             ],
             [
              0.7777777777777778,
              "#fb9f3a"
             ],
             [
              0.8888888888888888,
              "#fdca26"
             ],
             [
              1,
              "#f0f921"
             ]
            ],
            "type": "histogram2d"
           }
          ],
          "histogram2dcontour": [
           {
            "colorbar": {
             "outlinewidth": 0,
             "ticks": ""
            },
            "colorscale": [
             [
              0,
              "#0d0887"
             ],
             [
              0.1111111111111111,
              "#46039f"
             ],
             [
              0.2222222222222222,
              "#7201a8"
             ],
             [
              0.3333333333333333,
              "#9c179e"
             ],
             [
              0.4444444444444444,
              "#bd3786"
             ],
             [
              0.5555555555555556,
              "#d8576b"
             ],
             [
              0.6666666666666666,
              "#ed7953"
             ],
             [
              0.7777777777777778,
              "#fb9f3a"
             ],
             [
              0.8888888888888888,
              "#fdca26"
             ],
             [
              1,
              "#f0f921"
             ]
            ],
            "type": "histogram2dcontour"
           }
          ],
          "mesh3d": [
           {
            "colorbar": {
             "outlinewidth": 0,
             "ticks": ""
            },
            "type": "mesh3d"
           }
          ],
          "parcoords": [
           {
            "line": {
             "colorbar": {
              "outlinewidth": 0,
              "ticks": ""
             }
            },
            "type": "parcoords"
           }
          ],
          "pie": [
           {
            "automargin": true,
            "type": "pie"
           }
          ],
          "scatter": [
           {
            "marker": {
             "line": {
              "color": "#283442"
             }
            },
            "type": "scatter"
           }
          ],
          "scatter3d": [
           {
            "line": {
             "colorbar": {
              "outlinewidth": 0,
              "ticks": ""
             }
            },
            "marker": {
             "colorbar": {
              "outlinewidth": 0,
              "ticks": ""
             }
            },
            "type": "scatter3d"
           }
          ],
          "scattercarpet": [
           {
            "marker": {
             "colorbar": {
              "outlinewidth": 0,
              "ticks": ""
             }
            },
            "type": "scattercarpet"
           }
          ],
          "scattergeo": [
           {
            "marker": {
             "colorbar": {
              "outlinewidth": 0,
              "ticks": ""
             }
            },
            "type": "scattergeo"
           }
          ],
          "scattergl": [
           {
            "marker": {
             "line": {
              "color": "#283442"
             }
            },
            "type": "scattergl"
           }
          ],
          "scattermapbox": [
           {
            "marker": {
             "colorbar": {
              "outlinewidth": 0,
              "ticks": ""
             }
            },
            "type": "scattermapbox"
           }
          ],
          "scatterpolar": [
           {
            "marker": {
             "colorbar": {
              "outlinewidth": 0,
              "ticks": ""
             }
            },
            "type": "scatterpolar"
           }
          ],
          "scatterpolargl": [
           {
            "marker": {
             "colorbar": {
              "outlinewidth": 0,
              "ticks": ""
             }
            },
            "type": "scatterpolargl"
           }
          ],
          "scatterternary": [
           {
            "marker": {
             "colorbar": {
              "outlinewidth": 0,
              "ticks": ""
             }
            },
            "type": "scatterternary"
           }
          ],
          "surface": [
           {
            "colorbar": {
             "outlinewidth": 0,
             "ticks": ""
            },
            "colorscale": [
             [
              0,
              "#0d0887"
             ],
             [
              0.1111111111111111,
              "#46039f"
             ],
             [
              0.2222222222222222,
              "#7201a8"
             ],
             [
              0.3333333333333333,
              "#9c179e"
             ],
             [
              0.4444444444444444,
              "#bd3786"
             ],
             [
              0.5555555555555556,
              "#d8576b"
             ],
             [
              0.6666666666666666,
              "#ed7953"
             ],
             [
              0.7777777777777778,
              "#fb9f3a"
             ],
             [
              0.8888888888888888,
              "#fdca26"
             ],
             [
              1,
              "#f0f921"
             ]
            ],
            "type": "surface"
           }
          ],
          "table": [
           {
            "cells": {
             "fill": {
              "color": "#506784"
             },
             "line": {
              "color": "rgb(17,17,17)"
             }
            },
            "header": {
             "fill": {
              "color": "#2a3f5f"
             },
             "line": {
              "color": "rgb(17,17,17)"
             }
            },
            "type": "table"
           }
          ]
         },
         "layout": {
          "annotationdefaults": {
           "arrowcolor": "#f2f5fa",
           "arrowhead": 0,
           "arrowwidth": 1
          },
          "autotypenumbers": "strict",
          "coloraxis": {
           "colorbar": {
            "outlinewidth": 0,
            "ticks": ""
           }
          },
          "colorscale": {
           "diverging": [
            [
             0,
             "#8e0152"
            ],
            [
             0.1,
             "#c51b7d"
            ],
            [
             0.2,
             "#de77ae"
            ],
            [
             0.3,
             "#f1b6da"
            ],
            [
             0.4,
             "#fde0ef"
            ],
            [
             0.5,
             "#f7f7f7"
            ],
            [
             0.6,
             "#e6f5d0"
            ],
            [
             0.7,
             "#b8e186"
            ],
            [
             0.8,
             "#7fbc41"
            ],
            [
             0.9,
             "#4d9221"
            ],
            [
             1,
             "#276419"
            ]
           ],
           "sequential": [
            [
             0,
             "#0d0887"
            ],
            [
             0.1111111111111111,
             "#46039f"
            ],
            [
             0.2222222222222222,
             "#7201a8"
            ],
            [
             0.3333333333333333,
             "#9c179e"
            ],
            [
             0.4444444444444444,
             "#bd3786"
            ],
            [
             0.5555555555555556,
             "#d8576b"
            ],
            [
             0.6666666666666666,
             "#ed7953"
            ],
            [
             0.7777777777777778,
             "#fb9f3a"
            ],
            [
             0.8888888888888888,
             "#fdca26"
            ],
            [
             1,
             "#f0f921"
            ]
           ],
           "sequentialminus": [
            [
             0,
             "#0d0887"
            ],
            [
             0.1111111111111111,
             "#46039f"
            ],
            [
             0.2222222222222222,
             "#7201a8"
            ],
            [
             0.3333333333333333,
             "#9c179e"
            ],
            [
             0.4444444444444444,
             "#bd3786"
            ],
            [
             0.5555555555555556,
             "#d8576b"
            ],
            [
             0.6666666666666666,
             "#ed7953"
            ],
            [
             0.7777777777777778,
             "#fb9f3a"
            ],
            [
             0.8888888888888888,
             "#fdca26"
            ],
            [
             1,
             "#f0f921"
            ]
           ]
          },
          "colorway": [
           "#636efa",
           "#EF553B",
           "#00cc96",
           "#ab63fa",
           "#FFA15A",
           "#19d3f3",
           "#FF6692",
           "#B6E880",
           "#FF97FF",
           "#FECB52"
          ],
          "font": {
           "color": "#f2f5fa"
          },
          "geo": {
           "bgcolor": "rgb(17,17,17)",
           "lakecolor": "rgb(17,17,17)",
           "landcolor": "rgb(17,17,17)",
           "showlakes": true,
           "showland": true,
           "subunitcolor": "#506784"
          },
          "hoverlabel": {
           "align": "left"
          },
          "hovermode": "closest",
          "mapbox": {
           "style": "dark"
          },
          "paper_bgcolor": "rgb(17,17,17)",
          "plot_bgcolor": "rgb(17,17,17)",
          "polar": {
           "angularaxis": {
            "gridcolor": "#506784",
            "linecolor": "#506784",
            "ticks": ""
           },
           "bgcolor": "rgb(17,17,17)",
           "radialaxis": {
            "gridcolor": "#506784",
            "linecolor": "#506784",
            "ticks": ""
           }
          },
          "scene": {
           "xaxis": {
            "backgroundcolor": "rgb(17,17,17)",
            "gridcolor": "#506784",
            "gridwidth": 2,
            "linecolor": "#506784",
            "showbackground": true,
            "ticks": "",
            "zerolinecolor": "#C8D4E3"
           },
           "yaxis": {
            "backgroundcolor": "rgb(17,17,17)",
            "gridcolor": "#506784",
            "gridwidth": 2,
            "linecolor": "#506784",
            "showbackground": true,
            "ticks": "",
            "zerolinecolor": "#C8D4E3"
           },
           "zaxis": {
            "backgroundcolor": "rgb(17,17,17)",
            "gridcolor": "#506784",
            "gridwidth": 2,
            "linecolor": "#506784",
            "showbackground": true,
            "ticks": "",
            "zerolinecolor": "#C8D4E3"
           }
          },
          "shapedefaults": {
           "line": {
            "color": "#f2f5fa"
           }
          },
          "sliderdefaults": {
           "bgcolor": "#C8D4E3",
           "bordercolor": "rgb(17,17,17)",
           "borderwidth": 1,
           "tickwidth": 0
          },
          "ternary": {
           "aaxis": {
            "gridcolor": "#506784",
            "linecolor": "#506784",
            "ticks": ""
           },
           "baxis": {
            "gridcolor": "#506784",
            "linecolor": "#506784",
            "ticks": ""
           },
           "bgcolor": "rgb(17,17,17)",
           "caxis": {
            "gridcolor": "#506784",
            "linecolor": "#506784",
            "ticks": ""
           }
          },
          "title": {
           "x": 0.05
          },
          "updatemenudefaults": {
           "bgcolor": "#506784",
           "borderwidth": 0
          },
          "xaxis": {
           "automargin": true,
           "gridcolor": "#283442",
           "linecolor": "#506784",
           "ticks": "",
           "title": {
            "standoff": 15
           },
           "zerolinecolor": "#283442",
           "zerolinewidth": 2
          },
          "yaxis": {
           "automargin": true,
           "gridcolor": "#283442",
           "linecolor": "#506784",
           "ticks": "",
           "title": {
            "standoff": 15
           },
           "zerolinecolor": "#283442",
           "zerolinewidth": 2
          }
         }
        },
        "title": {
         "text": "Multiple models Forecast result.\n Inference date: 2025-01-27"
        },
        "xaxis": {
         "title": {
          "text": "Date"
         }
        },
        "yaxis": {
         "title": {
          "text": "Target and Predicted Values"
         }
        }
       }
      }
     },
     "metadata": {},
     "output_type": "display_data"
    }
   ],
   "source": [
    "fig = plot_multiple_models_forecast(\n",
    "    training_dataframe=feature_df,\n",
    "    forecast_dataframe=final_predictions_df,\n",
    "    x_col=\"date\",\n",
    "    y_col=[TARGET_COL, PREDICTED_COL],\n",
    "    title=f\"Multiple models Forecast result.\\n Inference date: {final_predictions_df['RUN_DATE'].unique()[0]}\",\n",
    "    x_label=\"Date\",\n",
    "    y_label=\"Target and Predicted Values\"\n",
    ")\n",
    "fig.show()"
   ]
  },
  {
   "cell_type": "code",
   "execution_count": null,
   "metadata": {},
   "outputs": [],
   "source": []
  }
 ],
 "metadata": {
  "kernelspec": {
   "display_name": "forecasting",
   "language": "python",
   "name": "python3"
  },
  "language_info": {
   "codemirror_mode": {
    "name": "ipython",
    "version": 3
   },
   "file_extension": ".py",
   "mimetype": "text/x-python",
   "name": "python",
   "nbconvert_exporter": "python",
   "pygments_lexer": "ipython3",
   "version": "3.11.11"
  }
 },
 "nbformat": 4,
 "nbformat_minor": 2
}
