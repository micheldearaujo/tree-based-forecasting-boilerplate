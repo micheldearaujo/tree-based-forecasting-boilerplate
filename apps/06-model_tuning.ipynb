{
 "cells": [
  {
   "cell_type": "markdown",
   "metadata": {},
   "source": [
    "# |PIX Forecasting - Modeling| IP45D V1.0 - Hyperparameter tuning\n",
    "\n",
    "**Objective**: Perform hyperparameter tuning in order to optimize the model performance and avoid both underfitting and underfitting."
   ]
  },
  {
   "cell_type": "markdown",
   "metadata": {},
   "source": [
    "## 1.0 Imports"
   ]
  },
  {
   "cell_type": "code",
   "execution_count": 2,
   "metadata": {},
   "outputs": [],
   "source": [
    "import sys\n",
    "import os\n",
    "\n",
    "if not os.getcwd().split(\"\\\\\")[-1] == \"ip_forecasting\":\n",
    "    # Get the directory of the current notebook\n",
    "    notebook_dir = os.path.dirname(\n",
    "        os.path.abspath(\"__file__\")\n",
    "    )  # Use __file__ for portability\n",
    "\n",
    "    # Move up one level to the project root\n",
    "    project_root = os.path.abspath(os.path.join(notebook_dir, \"..\"))\n",
    "\n",
    "    # Change working directory\n",
    "    os.chdir(project_root)"
   ]
  },
  {
   "cell_type": "code",
   "execution_count": 4,
   "metadata": {},
   "outputs": [],
   "source": [
    "import pandas as pd\n",
    "import numpy as np\n",
    "import pandas_gbq\n",
    "import locale\n",
    "import json\n",
    "\n",
    "import src.utils.useful_functions as uf\n",
    "from src.models.train import *\n",
    "from src.models.evaluate import *\n",
    "from src.models.tune_params import *\n",
    "\n",
    "from src.visualization.data_viz import *\n",
    "from scripts.run_train_and_predict import *\n",
    "from src.data.data_loader import load_and_preprocess_feature_df\n",
    "\n",
    "%load_ext autoreload\n",
    "%autoreload 2\n",
    "\n",
    "pd.set_option('display.max_columns', None)"
   ]
  },
  {
   "cell_type": "code",
   "execution_count": 5,
   "metadata": {},
   "outputs": [],
   "source": [
    "TARGET_COL          = model_config[\"target_col\"]\n",
    "PREDICTED_COL       = model_config[\"predicted_col\"]\n",
    "FORECAST_HORIZON    = model_config[\"forecast_horizon\"]\n",
    "N_SPLITS            = model_config[\"n_windows\"]\n",
    "MODEL_NAME          = model_config[\"model_name\"]\n",
    "USE_TUNED_PARMS     = model_config[\"use_tuned_params\"]\n",
    "TUNING_HOLDOUT_DATE = model_config[\"tuning_holdout_date\"]\n",
    "models_list         = list(get_models().keys())"
   ]
  },
  {
   "cell_type": "markdown",
   "metadata": {},
   "source": [
    "## 2.0 Data Loading"
   ]
  },
  {
   "cell_type": "code",
   "execution_count": 6,
   "metadata": {},
   "outputs": [],
   "source": [
    "feature_df = load_and_preprocess_model_dataset(\"featurized_df\")"
   ]
  },
  {
   "cell_type": "code",
   "execution_count": 7,
   "metadata": {},
   "outputs": [
    {
     "name": "stdout",
     "output_type": "stream",
     "text": [
      "2025-01-22 10:09:45,978 - scripts.run_train_and_predict - INFO - Last Available Date for Tuning: 2023-10-06 00:00:00\n"
     ]
    }
   ],
   "source": [
    "tuning_df = feature_df[feature_df[\"date\"] <= TUNING_HOLDOUT_DATE].copy()"
   ]
  },
  {
   "cell_type": "markdown",
   "metadata": {},
   "source": [
    "## 3.0 Running the Hyperparameter Tuning"
   ]
  },
  {
   "cell_type": "code",
   "execution_count": 8,
   "metadata": {},
   "outputs": [],
   "source": [
    "run_tuning_pipeline(\n",
    "    dataframe = tuning_df,\n",
    "    max_evals = 4000,\n",
    "    models_list = models_list\n",
    ")"
   ]
  },
  {
   "cell_type": "code",
   "execution_count": 1,
   "metadata": {},
   "outputs": [],
   "source": [
    "# for model_type in model_types:\n",
    "#     logger.warning(\n",
    "#         f\"Performing hyperparameter tuning for ticker using [{model_type}]...\"\n",
    "#     )\n",
    "\n",
    "#     grid_search = tune_params_gridsearch(X_train, y_train, model_type, n_splits=3)\n",
    "#     best_params = grid_search.best_params_\n",
    "\n",
    "#     logger.info(f\"Best parameters found: {best_params}\")\n",
    "#     if save_params:\n",
    "#         os.makedirs(MODELS_PATH, exist_ok=True)\n",
    "#         os.makedirs(os.path.join(MODELS_PATH), exist_ok=True)\n",
    "#         joblib.dump(\n",
    "#             best_params,\n",
    "#             os.path.join(MODELS_PATH, f\"best_params_{model_type}.joblib\"),\n",
    "#         )\n",
    "\n",
    "#         pd.DataFrame(grid_search.cv_results_).to_csv(\n",
    "#             os.path.join(MODELS_PATH, f\"cv_results_{model_type}.csv\"),\n",
    "#             index=False,\n",
    "#         )"
   ]
  },
  {
   "cell_type": "code",
   "execution_count": null,
   "metadata": {},
   "outputs": [],
   "source": []
  }
 ],
 "metadata": {
  "kernelspec": {
   "display_name": "forecasting",
   "language": "python",
   "name": "python3"
  },
  "language_info": {
   "codemirror_mode": {
    "name": "ipython",
    "version": 3
   },
   "file_extension": ".py",
   "mimetype": "text/x-python",
   "name": "python",
   "nbconvert_exporter": "python",
   "pygments_lexer": "ipython3",
   "version": "3.11.11"
  }
 },
 "nbformat": 4,
 "nbformat_minor": 2
}
