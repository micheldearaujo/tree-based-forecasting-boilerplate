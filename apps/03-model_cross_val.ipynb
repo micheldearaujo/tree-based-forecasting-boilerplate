{
 "cells": [
  {
   "cell_type": "markdown",
   "metadata": {},
   "source": [
    "# |PIX Forecasting - Cross-validation| IP45D - Cross-validation and Feature Selection\n",
    "\n",
    "**Objective**: Perform cross-validation on the past data in order to benchmark the proposed models and figure out which are the best features.\n",
    "\n",
    "- In this version we will add and/or remove variables.\n",
    "- We test new Lags of the Target and the External variables.\n",
    "- We test moving averages of the Target and the External variables.\n",
    "- We test Bollinger Bands."
   ]
  },
  {
   "cell_type": "markdown",
   "metadata": {},
   "source": [
    "## 1.0 Imports"
   ]
  },
  {
   "cell_type": "markdown",
   "metadata": {},
   "source": [
    "### 1.1 Setting working directory"
   ]
  },
  {
   "cell_type": "code",
   "execution_count": 11,
   "metadata": {},
   "outputs": [],
   "source": [
    "import sys\n",
    "import os\n",
    "\n",
    "if not os.getcwd().split(\"\\\\\")[-1] == \"ip_forecasting\":\n",
    "    # Get the directory of the current notebook\n",
    "    notebook_dir = os.path.dirname(\n",
    "        os.path.abspath(\"__file__\")\n",
    "    )  # Use __file__ for portability\n",
    "\n",
    "    # Move up one level to the project root\n",
    "    project_root = os.path.abspath(os.path.join(notebook_dir, \"../\"))\n",
    "\n",
    "    # Change working directory\n",
    "    os.chdir(project_root)"
   ]
  },
  {
   "cell_type": "code",
   "execution_count": 12,
   "metadata": {},
   "outputs": [
    {
     "name": "stdout",
     "output_type": "stream",
     "text": [
      "The autoreload extension is already loaded. To reload it, use:\n",
      "  %reload_ext autoreload\n"
     ]
    }
   ],
   "source": [
    "import pandas as pd\n",
    "import numpy as np\n",
    "import pandas_gbq\n",
    "import locale\n",
    "\n",
    "import warnings\n",
    "\n",
    "import src.utils.useful_functions as uf\n",
    "from src.models.train import *\n",
    "from src.models.evaluate import *\n",
    "\n",
    "from src.visualization.data_viz import *\n",
    "from scripts.run_cross_validation import *\n",
    "from src.data.data_loader import load_and_preprocess_model_dataset\n",
    "\n",
    "%load_ext autoreload\n",
    "%autoreload 2\n",
    "\n",
    "pd.set_option('display.max_columns', None)\n",
    "warnings.filterwarnings(\"ignore\")"
   ]
  },
  {
   "cell_type": "markdown",
   "metadata": {},
   "source": [
    "### 1.2 Parameters setting"
   ]
  },
  {
   "cell_type": "code",
   "execution_count": 13,
   "metadata": {},
   "outputs": [],
   "source": [
    "TARGET_COL = model_config[\"target_col\"]\n",
    "PREDICTED_COL = model_config[\"predicted_col\"]\n",
    "FORECAST_HORIZON = model_config[\"forecast_horizon\"]\n",
    "MODEL_NAME = model_config[\"model_name\"]\n",
    "USE_TUNED_PARMS = model_config[\"use_tuned_params\"]"
   ]
  },
  {
   "cell_type": "markdown",
   "metadata": {},
   "source": [
    "## 2.0 Data Loading"
   ]
  },
  {
   "cell_type": "code",
   "execution_count": 17,
   "metadata": {},
   "outputs": [],
   "source": [
    "feature_df = load_and_preprocess_model_dataset(\"featurized_df\")\n",
    "feature_df = feature_df.set_index(\"date\")"
   ]
  },
  {
   "cell_type": "markdown",
   "metadata": {},
   "source": [
    "## 4.0 Modeling: Multiple Tree-based models"
   ]
  },
  {
   "cell_type": "markdown",
   "metadata": {},
   "source": [
    "### 4.1 Running Backtesting with expanding window"
   ]
  },
  {
   "cell_type": "code",
   "execution_count": 18,
   "metadata": {},
   "outputs": [
    {
     "data": {
      "text/html": [
       "<div>\n",
       "<style scoped>\n",
       "    .dataframe tbody tr th:only-of-type {\n",
       "        vertical-align: middle;\n",
       "    }\n",
       "\n",
       "    .dataframe tbody tr th {\n",
       "        vertical-align: top;\n",
       "    }\n",
       "\n",
       "    .dataframe thead th {\n",
       "        text-align: right;\n",
       "    }\n",
       "</style>\n",
       "<table border=\"1\" class=\"dataframe\">\n",
       "  <thead>\n",
       "    <tr style=\"text-align: right;\">\n",
       "      <th></th>\n",
       "      <th>inventories</th>\n",
       "      <th>imports</th>\n",
       "      <th>europulp</th>\n",
       "      <th>second_market_price</th>\n",
       "      <th>final_product_price</th>\n",
       "      <th>index_price</th>\n",
       "    </tr>\n",
       "    <tr>\n",
       "      <th>date</th>\n",
       "      <th></th>\n",
       "      <th></th>\n",
       "      <th></th>\n",
       "      <th></th>\n",
       "      <th></th>\n",
       "      <th></th>\n",
       "    </tr>\n",
       "  </thead>\n",
       "  <tbody>\n",
       "    <tr>\n",
       "      <th>2024-09-13</th>\n",
       "      <td>2074.61775</td>\n",
       "      <td>1.335467e+09</td>\n",
       "      <td>1516.22325</td>\n",
       "      <td>575.96</td>\n",
       "      <td>6306.666667</td>\n",
       "      <td>572.66</td>\n",
       "    </tr>\n",
       "    <tr>\n",
       "      <th>2024-09-20</th>\n",
       "      <td>2011.28950</td>\n",
       "      <td>1.399020e+09</td>\n",
       "      <td>1534.56550</td>\n",
       "      <td>576.27</td>\n",
       "      <td>6316.666667</td>\n",
       "      <td>571.84</td>\n",
       "    </tr>\n",
       "    <tr>\n",
       "      <th>2024-09-27</th>\n",
       "      <td>1947.96125</td>\n",
       "      <td>1.462574e+09</td>\n",
       "      <td>1552.90775</td>\n",
       "      <td>579.91</td>\n",
       "      <td>6306.666667</td>\n",
       "      <td>561.50</td>\n",
       "    </tr>\n",
       "    <tr>\n",
       "      <th>2024-10-04</th>\n",
       "      <td>1884.63300</td>\n",
       "      <td>1.526127e+09</td>\n",
       "      <td>1571.25000</td>\n",
       "      <td>580.84</td>\n",
       "      <td>6300.000000</td>\n",
       "      <td>561.05</td>\n",
       "    </tr>\n",
       "    <tr>\n",
       "      <th>2024-10-11</th>\n",
       "      <td>1890.72350</td>\n",
       "      <td>1.526127e+09</td>\n",
       "      <td>1553.76125</td>\n",
       "      <td>572.93</td>\n",
       "      <td>6300.000000</td>\n",
       "      <td>560.94</td>\n",
       "    </tr>\n",
       "    <tr>\n",
       "      <th>2024-10-18</th>\n",
       "      <td>1896.81400</td>\n",
       "      <td>1.526127e+09</td>\n",
       "      <td>1536.27250</td>\n",
       "      <td>564.79</td>\n",
       "      <td>6283.333333</td>\n",
       "      <td>561.75</td>\n",
       "    </tr>\n",
       "    <tr>\n",
       "      <th>2024-10-25</th>\n",
       "      <td>1902.90450</td>\n",
       "      <td>1.526127e+09</td>\n",
       "      <td>1518.78375</td>\n",
       "      <td>556.41</td>\n",
       "      <td>6266.666667</td>\n",
       "      <td>559.28</td>\n",
       "    </tr>\n",
       "    <tr>\n",
       "      <th>2024-11-01</th>\n",
       "      <td>1908.99500</td>\n",
       "      <td>1.526127e+09</td>\n",
       "      <td>1501.29500</td>\n",
       "      <td>552.60</td>\n",
       "      <td>6233.333333</td>\n",
       "      <td>555.99</td>\n",
       "    </tr>\n",
       "    <tr>\n",
       "      <th>2024-11-08</th>\n",
       "      <td>1918.88680</td>\n",
       "      <td>1.526127e+09</td>\n",
       "      <td>1501.29500</td>\n",
       "      <td>543.56</td>\n",
       "      <td>6150.000000</td>\n",
       "      <td>554.88</td>\n",
       "    </tr>\n",
       "    <tr>\n",
       "      <th>2024-11-15</th>\n",
       "      <td>1928.77860</td>\n",
       "      <td>1.526127e+09</td>\n",
       "      <td>1501.29500</td>\n",
       "      <td>536.15</td>\n",
       "      <td>6150.000000</td>\n",
       "      <td>554.80</td>\n",
       "    </tr>\n",
       "    <tr>\n",
       "      <th>2024-11-22</th>\n",
       "      <td>1938.67040</td>\n",
       "      <td>1.526127e+09</td>\n",
       "      <td>1501.29500</td>\n",
       "      <td>534.70</td>\n",
       "      <td>6150.000000</td>\n",
       "      <td>545.88</td>\n",
       "    </tr>\n",
       "    <tr>\n",
       "      <th>2024-11-29</th>\n",
       "      <td>1948.56220</td>\n",
       "      <td>1.526127e+09</td>\n",
       "      <td>1501.29500</td>\n",
       "      <td>528.59</td>\n",
       "      <td>6100.000000</td>\n",
       "      <td>545.88</td>\n",
       "    </tr>\n",
       "  </tbody>\n",
       "</table>\n",
       "</div>"
      ],
      "text/plain": [
       "            inventories       imports    europulp  second_market_price  \\\n",
       "date                                                                     \n",
       "2024-09-13   2074.61775  1.335467e+09  1516.22325               575.96   \n",
       "2024-09-20   2011.28950  1.399020e+09  1534.56550               576.27   \n",
       "2024-09-27   1947.96125  1.462574e+09  1552.90775               579.91   \n",
       "2024-10-04   1884.63300  1.526127e+09  1571.25000               580.84   \n",
       "2024-10-11   1890.72350  1.526127e+09  1553.76125               572.93   \n",
       "2024-10-18   1896.81400  1.526127e+09  1536.27250               564.79   \n",
       "2024-10-25   1902.90450  1.526127e+09  1518.78375               556.41   \n",
       "2024-11-01   1908.99500  1.526127e+09  1501.29500               552.60   \n",
       "2024-11-08   1918.88680  1.526127e+09  1501.29500               543.56   \n",
       "2024-11-15   1928.77860  1.526127e+09  1501.29500               536.15   \n",
       "2024-11-22   1938.67040  1.526127e+09  1501.29500               534.70   \n",
       "2024-11-29   1948.56220  1.526127e+09  1501.29500               528.59   \n",
       "\n",
       "            final_product_price  index_price  \n",
       "date                                          \n",
       "2024-09-13          6306.666667       572.66  \n",
       "2024-09-20          6316.666667       571.84  \n",
       "2024-09-27          6306.666667       561.50  \n",
       "2024-10-04          6300.000000       561.05  \n",
       "2024-10-11          6300.000000       560.94  \n",
       "2024-10-18          6283.333333       561.75  \n",
       "2024-10-25          6266.666667       559.28  \n",
       "2024-11-01          6233.333333       555.99  \n",
       "2024-11-08          6150.000000       554.88  \n",
       "2024-11-15          6150.000000       554.80  \n",
       "2024-11-22          6150.000000       545.88  \n",
       "2024-11-29          6100.000000       545.88  "
      ]
     },
     "execution_count": 18,
     "metadata": {},
     "output_type": "execute_result"
    }
   ],
   "source": [
    "feature_df.tail(12)"
   ]
  },
  {
   "cell_type": "code",
   "execution_count": 19,
   "metadata": {},
   "outputs": [
    {
     "name": "stdout",
     "output_type": "stream",
     "text": [
      "2025-01-29 15:18:45,023 - scripts.run_cross_validation - WARNING - Running Walk Forward Validation with [2] steps and step size equal to [6]...\n",
      "2025-01-29 15:18:45,038 - scripts.run_cross_validation - INFO - Iteration [1] out of [2] end training date: 2024-09-27 00:00:00...\n",
      "2025-01-29 15:19:02,306 - scripts.run_cross_validation - INFO - Performing cross validation for [RandomForestRegressor]...\n",
      "Function 'train' executed in 0.93 seconds.\n",
      "2025-01-29 15:19:12,361 - scripts.run_cross_validation - INFO - Performing cross validation for [XGBRegressor]...\n",
      "[0]\tvalidation_0-rmse:76.12761\tvalidation_1-rmse:73.26144\n",
      "[10]\tvalidation_0-rmse:4.28601\tvalidation_1-rmse:19.31985\n",
      "[20]\tvalidation_0-rmse:2.14170\tvalidation_1-rmse:18.79831\n",
      "[30]\tvalidation_0-rmse:1.69375\tvalidation_1-rmse:18.73866\n",
      "[40]\tvalidation_0-rmse:1.38165\tvalidation_1-rmse:18.89270\n",
      "[50]\tvalidation_0-rmse:1.16225\tvalidation_1-rmse:18.88328\n",
      "[60]\tvalidation_0-rmse:0.94025\tvalidation_1-rmse:18.85129\n",
      "[70]\tvalidation_0-rmse:0.84100\tvalidation_1-rmse:18.83329\n",
      "[80]\tvalidation_0-rmse:0.75845\tvalidation_1-rmse:18.81546\n",
      "[90]\tvalidation_0-rmse:0.68595\tvalidation_1-rmse:18.80834\n",
      "[99]\tvalidation_0-rmse:0.65245\tvalidation_1-rmse:18.82011\n",
      "Function 'train' executed in 0.38 seconds.\n",
      "2025-01-29 15:19:13,159 - scripts.run_cross_validation - INFO - Iteration [2] out of [2] end training date: 2024-11-08 00:00:00...\n",
      "2025-01-29 15:19:27,780 - scripts.run_cross_validation - INFO - Performing cross validation for [RandomForestRegressor]...\n",
      "Function 'train' executed in 0.80 seconds.\n",
      "2025-01-29 15:19:36,668 - scripts.run_cross_validation - INFO - Performing cross validation for [XGBRegressor]...\n",
      "[0]\tvalidation_0-rmse:75.73590\tvalidation_1-rmse:79.37941\n",
      "[10]\tvalidation_0-rmse:4.42485\tvalidation_1-rmse:16.48151\n",
      "[20]\tvalidation_0-rmse:2.17414\tvalidation_1-rmse:16.30662\n",
      "[30]\tvalidation_0-rmse:1.63948\tvalidation_1-rmse:16.23969\n",
      "[40]\tvalidation_0-rmse:1.29042\tvalidation_1-rmse:16.22115\n",
      "[50]\tvalidation_0-rmse:1.07519\tvalidation_1-rmse:16.22355\n",
      "[60]\tvalidation_0-rmse:0.91706\tvalidation_1-rmse:16.18782\n",
      "[70]\tvalidation_0-rmse:0.80432\tvalidation_1-rmse:16.18855\n",
      "[80]\tvalidation_0-rmse:0.72187\tvalidation_1-rmse:16.18971\n",
      "[90]\tvalidation_0-rmse:0.68480\tvalidation_1-rmse:16.22361\n",
      "[99]\tvalidation_0-rmse:0.64554\tvalidation_1-rmse:16.22863\n",
      "Function 'train' executed in 0.25 seconds.\n",
      "2025-01-29 15:19:41,239 - scripts.run_cross_validation - INFO - Writing the testing results dataframe...\n",
      "Function 'walk_forward_validation_ml' executed in 56.23 seconds.\n"
     ]
    }
   ],
   "source": [
    "validation_report_df, _ = walk_forward_validation_ml(\n",
    "    model_df        = feature_df,\n",
    "    test_start_date = model_config[\"tuning_holdout_date\"],\n",
    "    step_size       = model_config[\"cross_validation_step_size\"],\n",
    "    run_name        = f\"{desc}\",\n",
    "    table_name      = f\"{desc}\",\n",
    "    write_to_table  = True,\n",
    "    run_description = \"\"\"\n",
    "                    Testing the hyper parameter tuning using HyperOPT\n",
    "                    instead of RandomSearch or GridSearchCV.\n",
    "\n",
    "    {}\"\"\".format(\n",
    "        \"\\n\".join(list(lags_exog_dict.keys()))\n",
    "    ),\n",
    ")"
   ]
  },
  {
   "cell_type": "code",
   "execution_count": null,
   "metadata": {},
   "outputs": [],
   "source": []
  },
  {
   "cell_type": "code",
   "execution_count": null,
   "metadata": {},
   "outputs": [],
   "source": []
  }
 ],
 "metadata": {
  "kernelspec": {
   "display_name": "forecasting",
   "language": "python",
   "name": "python3"
  },
  "language_info": {
   "codemirror_mode": {
    "name": "ipython",
    "version": 3
   },
   "file_extension": ".py",
   "mimetype": "text/x-python",
   "name": "python",
   "nbconvert_exporter": "python",
   "pygments_lexer": "ipython3",
   "version": "3.11.11"
  }
 },
 "nbformat": 4,
 "nbformat_minor": 2
}
